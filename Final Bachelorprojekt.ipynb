{
 "cells": [
  {
   "cell_type": "code",
   "execution_count": null,
   "id": "294f7f1c",
   "metadata": {},
   "outputs": [],
   "source": [
    "# Tensorflow / Keras\n",
    "from tensorflow import keras # for building Neural Networks\n",
    "print('Tensorflow/Keras: %s' % keras.__version__) # print version\n",
    "from keras.models import Sequential, model_from_json # for creating a linear stack of layers for our Neural Network\n",
    "from keras import Input # for instantiating a keras tensor\n",
    "from keras.layers import Dense, SimpleRNN, Dropout, LSTM, Bidirectional # for creating regular densely-connected NN layers and RNN layers\n",
    "from keras.callbacks import EarlyStopping\n",
    "import tensorflow as tf\n",
    "from tensorflow.keras import activations\n",
    "from keras import backend as K\n",
    "from sklearn.preprocessing import StandardScaler\n",
    "\n",
    "# Data manipulation\n",
    "import pandas as pd # for data manipulation\n",
    "print('pandas: %s' % pd.__version__) # print version\n",
    "import numpy as np # for data manipulation\n",
    "print('numpy: %s' % np.__version__) # print version\n",
    "import math # to help with data reshaping of the data\n",
    "\n",
    "# Sklearn\n",
    "import sklearn # for model evaluation\n",
    "print('sklearn: %s' % sklearn.__version__) # print version\n",
    "from sklearn.model_selection import train_test_split # for splitting the data into train and test samples\n",
    "from sklearn.metrics import mean_squared_error # for model evaluation metrics\n",
    "from sklearn.preprocessing import MinMaxScaler # for feature scaling\n",
    "\n",
    "# Visualization\n",
    "import plotly \n",
    "import plotly.express as px\n",
    "import plotly.graph_objects as go\n",
    "import matplotlib.pyplot as plt\n",
    "print('plotly: %s' % plotly.__version__) # print version\n",
    "\n",
    "#Data fra yahoo finance\n",
    "import yfinance as yf\n",
    "print('yfinance: %s' %yf.__version__)"
   ]
  },
  {
   "cell_type": "markdown",
   "id": "5c54ec3d",
   "metadata": {},
   "source": [
    "## Anvendte funktioner"
   ]
  },
  {
   "cell_type": "markdown",
   "id": "e260fdcb",
   "metadata": {},
   "source": [
    "#### Modelevaluering"
   ]
  },
  {
   "cell_type": "code",
   "execution_count": null,
   "id": "eef60b97",
   "metadata": {},
   "outputs": [],
   "source": [
    "def showTrain(history):\n",
    "    # Plot training & validation loss values\n",
    "    fig, ax = plt.subplots(figsize=(9.2, 10.8), sharex=True)\n",
    "    plt.plot(history.history[\"loss\"])\n",
    "    plt.plot(history.history[\"val_loss\"])\n",
    "    plt.title(\"Model loss\")\n",
    "    plt.ylabel(\"Loss\")\n",
    "    plt.xlabel(\"Epoch\")\n",
    "    ax.xaxis.set_major_locator(plt.MaxNLocator(len(history.history['loss'])))\n",
    "    plt.legend([\"Train\", \"Validering\"], loc=\"upper left\")\n",
    "    plt.grid()\n",
    "    plt.show()"
   ]
  },
  {
   "cell_type": "markdown",
   "id": "55480e78",
   "metadata": {},
   "source": [
    "#### Til trading"
   ]
  },
  {
   "cell_type": "code",
   "execution_count": null,
   "id": "68ab2246",
   "metadata": {},
   "outputs": [],
   "source": [
    "def visualiser(m_udv, kurs, køb, sælg,pred_priser_clos, priser_close_real):\n",
    "    plt.rcParams.update({'font.size': 12})\n",
    "    \n",
    "    fig, ax1 = plt.subplots(figsize=(16, 9))\n",
    "\n",
    "    color = '#41719C'\n",
    "    ax1.set_xlabel('Dage (antal)')\n",
    "    ax1.set_ylabel('kursudvikling', color=color)\n",
    "    ax1.plot(kurs, color=color, label = 'S&P500')\n",
    "    ax1.set_xlim([0, len(pred_priser_clos)])\n",
    "    #ax1.set_ylim([230, 600])\n",
    "    ax1.scatter(x_køb, køb, c='#00ff00', label='køb')\n",
    "    ax1.scatter(x_sælg, sælg, c='#ff0000', label='sælg')\n",
    "    ax1.tick_params(axis='y', labelcolor=color)\n",
    "    \n",
    "    \n",
    "    right_side = ax1.spines[\"top\"]\n",
    "    right_side.set_visible(False)\n",
    "    \n",
    "    ax2 = ax1.twinx()  # instantiate a second axes that shares the same x-axis\n",
    "    \n",
    "    right_side = ax2.spines[\"top\"]\n",
    "    right_side.set_visible(False)\n",
    "\n",
    "    color = '#000000'\n",
    "    ax2.set_ylabel('model afkast', color=color)  # we already handled the x-label with ax1\n",
    "    ax2.plot(m_udv, color=color, label = 'algoritme afkast')\n",
    "    ax2.scatter(len(m_udv), list(priser_close_real)[-1]/list(priser_close_real)[0], marker = \"X\", s=200, label = \"Procentuel afkast for indekset i sig selv\")\n",
    "    #ax2.set_ylim([230,600])\n",
    "    ax2.tick_params(axis='y', labelcolor=color)\n",
    "    fig.tight_layout()  # otherwise the right y-label is slightly clipped\n",
    "    fig.legend(loc='upper center', prop={'size': 12})"
   ]
  },
  {
   "cell_type": "code",
   "execution_count": null,
   "id": "be5f3d26",
   "metadata": {},
   "outputs": [],
   "source": [
    "def algo_performance_præd_værdier(pred_priser_clos, priser_close, priser_close_faktisk):\n",
    "    #Initialiser forskellige parametre\n",
    "    \n",
    "    m=1\n",
    "    m_udv = []\n",
    "    x_køb = [] #tidspunkt vi køber på\n",
    "    x_sælg = [] #tidspunkt vi sælger på\n",
    "    køb_pris = [] #købspris\n",
    "    sælg_pris = [] #salgspris\n",
    "    \n",
    "    handling = [\"Start formue\"] #handling bruges i løkkerne\n",
    "    \n",
    "    index_handling = 0\n",
    "    index_salg = 0\n",
    "    index_køb = 0\n",
    "    \n",
    "    #Vi køber, hvis den prædikterede værdi i morgen end den faktiske vlrdi i dag\n",
    "    \n",
    "    for i in range(len(pred_priser_clos)-1):\n",
    "        if i==0:\n",
    "            m_udv.append\n",
    "        else:\n",
    "            if pred_priser_clos[i+1]>0 and index_salg>=index_køb:\n",
    "                m =  m * (1+priser_close[i+1]) \n",
    "                handling.append(\"Køb\")\n",
    "                index_køb = len(handling) - 1- handling[::-1].index(\"Køb\")\n",
    "                x_køb.append(i)\n",
    "                køb_pris.append(priser_close_faktisk[i])\n",
    "            elif pred_priser_clos[i+1]<0 and index_køb>=index_salg:\n",
    "                #Vi forventer at prisen er morgen er lavere end i dag, og sælger derfor - husk transaktionsomkostninger\n",
    "                handling.append(\"Salg\")\n",
    "                index_salg = len(handling) - 1- handling[::-1].index(\"Salg\") \n",
    "                x_sælg.append(i)\n",
    "                sælg_pris.append(priser_close_faktisk[i])\n",
    "            elif index_køb>=index_salg: \n",
    "                #Vi har senest købt aktien, og holder den, hvorfor formuen ændrer sig sammen med aktien\n",
    "                handling.append(\"Ingen\")\n",
    "                index_ingen = len(handling) - 1- handling[::-1].index(\"Ingen\")\n",
    "                m =  m * (1+priser_close[i+1])\n",
    "            else:\n",
    "                #Vi har senest solgt aktien, så ingen ændringer i formue\n",
    "                handling.append(\"Ingen\")\n",
    "                index_ingen = len(handling) - 1- handling[::-1].index(\"Ingen\")\n",
    "            m_udv.append(m)  \n",
    "    return m_udv, køb_pris, sælg_pris, x_køb, x_sælg"
   ]
  },
  {
   "cell_type": "markdown",
   "id": "ed5fea6c",
   "metadata": {},
   "source": [
    "## Data indhentning"
   ]
  },
  {
   "cell_type": "code",
   "execution_count": null,
   "id": "8a80d509",
   "metadata": {},
   "outputs": [],
   "source": [
    "#Download data fra S&P 500, forkortet til SPY i python\n",
    "df = yf.download(\"SPY\", \"2009-01-01\", \"2019-12-31\")\n",
    "df = df.reset_index()\n",
    "df = df.rename(columns = {\"Date\":\"date\", \"Open\": \"open\", \"Close\": \"close\"})\n",
    "#df = df[['date','open','close']] # Udvælg specifikke søjler\n",
    "\n",
    "#Vi ønsker at have dato som række-index:\n",
    "df['date'] = pd.to_datetime(df['date']) \n",
    "lukke_priser_train, lukke_priser_test = train_test_split(df.close, test_size=0.2, shuffle=False)\n",
    "\n",
    "df= df.drop(\"date\", axis=1)\n",
    "\n"
   ]
  },
  {
   "cell_type": "code",
   "execution_count": null,
   "id": "4fc004a9",
   "metadata": {},
   "outputs": [],
   "source": [
    "#Plot udvikling af S&P500's lukkekurser siden 2009-01-01\n",
    "fg, ax =plt.subplots(1,2,figsize=(20,7))\n",
    "ax[0].plot(df['open'],label='Open',color='green')\n",
    "ax[0].set_xlabel('Date',size=15)\n",
    "ax[0].set_ylabel('Price',size=15)\n",
    "ax[0].legend()\n",
    "\n",
    "ax[1].plot(df['close'],label='Close',color='red')\n",
    "ax[1].set_xlabel('Date',size=15)\n",
    "ax[1].set_ylabel('Price',size=15)\n",
    "ax[1].legend()\n",
    "\n",
    "fg.show()"
   ]
  },
  {
   "cell_type": "markdown",
   "id": "77e83c32",
   "metadata": {},
   "source": [
    "## Data forberedelse"
   ]
  },
  {
   "cell_type": "code",
   "execution_count": null,
   "id": "d01cd12b",
   "metadata": {},
   "outputs": [],
   "source": [
    "df = df.drop(\"Adj Close\", axis=1)\n",
    "\n",
    "df['Close Shift'] = df.close.shift(1)\n",
    "df['High'] = df.High.shift(1)\n",
    "df['Low']=df.Low.shift(1)\n",
    "df['Volume'] = df.Volume.shift(1)\n",
    "df['open'] = df.open.shift(1)\n",
    "\n",
    "df['Close Shift'] = df['Close Shift'].pct_change()\n",
    "df['High'] = df['High'].pct_change()\n",
    "df['Low'] = df['Low'].pct_change()\n",
    "df['Volume'] = df['Volume'].pct_change()\n",
    "df['open'] = df['open'].pct_change()\n",
    "df['close'] = df['close'].pct_change()\n",
    "\n",
    "\n",
    "df = df.fillna(0)\n",
    "\n",
    "#Fjern første række\n",
    "df = df.iloc[1: , :]\n",
    "df"
   ]
  },
  {
   "cell_type": "markdown",
   "id": "371c53ae",
   "metadata": {},
   "source": [
    "## RNN Modellen"
   ]
  },
  {
   "cell_type": "code",
   "execution_count": null,
   "id": "2ccb04d7",
   "metadata": {},
   "outputs": [],
   "source": [
    "#Definer Early stop\n",
    "early_stop = EarlyStopping(monitor='val_loss', patience=10,min_delta=0.00000001)\n",
    "\n",
    "#Feature variable til RNN\n",
    "X=df[['open', 'High', 'Low', 'Volume','Close Shift']] \n",
    "X_scaled=np.array(X)\n",
    "#Target variable\n",
    "Y=df[['close']]\n",
    "Y_scaled = np.array(Y)"
   ]
  },
  {
   "cell_type": "code",
   "execution_count": null,
   "id": "74270999",
   "metadata": {},
   "outputs": [],
   "source": [
    "##### Step 2 - Spalter vores kurser op i træning og test\n",
    "X_train_data, X_test_data = train_test_split(X_scaled, test_size=0.2, shuffle=False)\n",
    "Y_train_data, y_test = train_test_split(Y_scaled, test_size = 0.2, shuffle = False)\n",
    "\n",
    "#Validation data:\n",
    "X_train, X_val, y_train, y_val = train_test_split(X_train_data, Y_train_data, test_size=0.2, shuffle=False)"
   ]
  },
  {
   "cell_type": "code",
   "execution_count": null,
   "id": "7d022403",
   "metadata": {},
   "outputs": [],
   "source": [
    "#Lav til 3-dimensional tensor:\n",
    "row_train = len(y_train)\n",
    "row_test = len(y_test)\n",
    "row_val = len(y_val)\n",
    "\n",
    "X_train = np.reshape(X_train, (row_train, 1,5))\n",
    "X_test = np.reshape(X_test_data, (row_test, 1, 5))\n",
    "X_val = np.reshape(X_val, (row_val, 1, 5))"
   ]
  },
  {
   "cell_type": "code",
   "execution_count": null,
   "id": "7a2b23d2",
   "metadata": {},
   "outputs": [],
   "source": [
    "print(X_train.shape, X_test.shape, X_val.shape, y_train.shape, y_test.shape, y_val.shape)"
   ]
  },
  {
   "cell_type": "code",
   "execution_count": null,
   "id": "3cd551a9",
   "metadata": {},
   "outputs": [],
   "source": [
    "##### Step 4 - opstil RNN modellens struktur.\n",
    "model_RNN = Sequential(name=\"RNN-Model\") # Model\n",
    "model_RNN.add(Input((X_train.shape[1],X_train.shape[2]), name='Input-Layer')) \n",
    "model_RNN.add(SimpleRNN(units=64, return_sequences = False,  activation='tanh', name='Hidden-Recurrent-Layer2', \n",
    "                        kernel_regularizer=keras.regularizers.l2(0.01)))\n",
    "model_RNN.add(Dense(units=1, activation='linear', name='Output-Layer')) # Output Layer, Linear(x) = x"
   ]
  },
  {
   "cell_type": "code",
   "execution_count": null,
   "id": "f1eacf9b",
   "metadata": {},
   "outputs": [],
   "source": [
    "##### Step 5 - Compile keras model\n",
    "optimizer = keras.optimizers.Adam(learning_rate=0.01)\n",
    "model_RNN.compile(optimizer=optimizer, # default='rmsprop', Adaptive Moment Estimation (Backprop)\n",
    "              loss='mean_squared_error', # Vores loss funktion, som skal minimeres/optimeres \n",
    "              loss_weights=None, \n",
    "              weighted_metrics=None,\n",
    "              run_eagerly=None, \n",
    "              steps_per_execution=None \n",
    "             )"
   ]
  },
  {
   "cell_type": "code",
   "execution_count": null,
   "id": "06bfb1c0",
   "metadata": {},
   "outputs": [],
   "source": [
    "##### Step 6 - Fit keras model on the dataset\n",
    "history_RNN = model_RNN.fit(X_train, # input data\n",
    "          y_train, # target data\n",
    "          batch_size=64,# Antal af datapunkter per opdatering af gradient. Hvis ikke dette specificeres, så er det 32\n",
    "          epochs=40, # Hvor mange gange modellen skal køre igennem alt data\n",
    "          verbose=1, #  1 = progress bar\n",
    "          callbacks=early_stop, #Hvornår vi ikke længere acceptere små fremskridt.\n",
    "          validation_data=(X_val, y_val), # default=None, Data on which to evaluate the loss and any model metrics at the end of each epoch. \n",
    "         )"
   ]
  },
  {
   "cell_type": "code",
   "execution_count": null,
   "id": "3451c975",
   "metadata": {},
   "outputs": [],
   "source": [
    "##### Step 7 - Brug modellen til at prædiktere\n",
    "# Prædikter med træningsdata\n",
    "pred_train_RNN = model_RNN.predict(X_train)\n",
    "# Prædikter med testdata\n",
    "pred_test_RNN = model_RNN.predict(X_test)"
   ]
  },
  {
   "cell_type": "code",
   "execution_count": null,
   "id": "d5a66484",
   "metadata": {},
   "outputs": [],
   "source": [
    "showTrain(history_RNN)"
   ]
  },
  {
   "cell_type": "code",
   "execution_count": null,
   "id": "48834829",
   "metadata": {},
   "outputs": [],
   "source": [
    "#Visualiser\n",
    "fig = go.Figure()\n",
    "fig.add_trace(go.Scatter(x=np.array(range(0,len(y_test))),\n",
    "                         y=y_test.flatten(),\n",
    "                         mode='lines',\n",
    "                         name='Observerede lukkepriser (Test)',\n",
    "                         opacity=0.8,\n",
    "                         line=dict(color='black', width=1)\n",
    "                        ))\n",
    "fig.add_trace(go.Scatter(x=np.array(range(0,len(pred_test_RNN))),\n",
    "                         y=pred_test_RNN.flatten(),\n",
    "                         mode='lines',\n",
    "                         name='Prædikterede lukkepriser (Test)',\n",
    "                         opacity=0.8,\n",
    "                         line=dict(color='red', width=1)\n",
    "                        ))\n",
    "\n",
    "# Ændre baggrundsfarve\n",
    "fig.update_layout(dict(plot_bgcolor = 'white'))\n",
    "\n",
    "# Ændre linjer\n",
    "fig.update_xaxes(showgrid=True, gridwidth=1, gridcolor='lightgrey', \n",
    "                 zeroline=True, zerolinewidth=1, zerolinecolor='lightgrey', \n",
    "                 showline=True, linewidth=1, linecolor='black',\n",
    "                 title='Antal dage' #af testdata\n",
    "                )\n",
    "\n",
    "fig.update_yaxes(showgrid=True, gridwidth=1, gridcolor='lightgrey', \n",
    "                 zeroline=True, zerolinewidth=1, zerolinecolor='lightgrey', \n",
    "                 showline=True, linewidth=1, linecolor='black',\n",
    "                 title='Pris'\n",
    "                )\n",
    "\n",
    "# Billede titel\n",
    "fig.update_layout(title=dict(text=\"Lukkepriser for S&P 500\", \n",
    "                             font=dict(color='black')),\n",
    "                  legend=dict(orientation=\"h\", yanchor=\"bottom\", y=1.02, xanchor=\"right\", x=1)\n",
    "                 )\n",
    "\n",
    "fig.show()"
   ]
  },
  {
   "cell_type": "markdown",
   "id": "90caa605",
   "metadata": {},
   "source": [
    "## LSTM Modellen"
   ]
  },
  {
   "cell_type": "code",
   "execution_count": null,
   "id": "298cc337",
   "metadata": {},
   "outputs": [],
   "source": [
    "#Til LSTM\n",
    "std_scaler = StandardScaler()\n",
    "X_scaled=std_scaler.fit_transform(X)\n",
    "Y_scaled = std_scaler.fit_transform(Y)"
   ]
  },
  {
   "cell_type": "code",
   "execution_count": null,
   "id": "02f8145f",
   "metadata": {},
   "outputs": [],
   "source": [
    "X_train_seq = []\n",
    "y_train_seq = []\n",
    "\n",
    "\n",
    "datasæt_sequences = pd.DataFrame(X_train_data)\n",
    "datasæt_labels = pd.DataFrame(Y_train_data)\n",
    "\n",
    "sequence_length = 40\n",
    "\n",
    "for i in range(sequence_length,(len(datasæt_sequences)-1)): # 50 rækker ad gangen\n",
    "    X_train_seq.append(datasæt_sequences.iloc[i-sequence_length:i,:])\n",
    "    y_train_seq.append(datasæt_labels.iloc[i,0])\n",
    "    \n",
    "X_train_seq = np.array(X_train_seq)\n",
    "y_train_seq = np.array(y_train_seq)\n",
    "\n",
    "X_test_seq = []\n",
    "y_test_seq = []\n",
    "\n",
    "datasæt_sequences_test = pd.DataFrame(X_test_data)\n",
    "datasæt_labels_test = pd.DataFrame(y_test)\n",
    "\n",
    "\n",
    "for i in range(sequence_length,(len(datasæt_sequences_test)-1)): # 50 rækker ad gangen\n",
    "    X_test_seq.append(datasæt_sequences_test.iloc[i-sequence_length:i, :])\n",
    "    y_test_seq.append(datasæt_labels_test.iloc[i, 0])\n",
    "\n",
    "X_test, y_test = np.array(X_test), np.array(y_test).reshape(len(y_test), 1)\n",
    "\n",
    "X_test_seq = np.array(X_test_seq)\n",
    "y_test_seq = np.array(y_test_seq)\n",
    "\n",
    "X_train_seq, X_vali_seq = train_test_split(X_train_seq, test_size=0.2, shuffle = False)\n",
    "y_train_seq, y_vali_seq = train_test_split(y_train_seq, test_size=0.2, shuffle = False)\n",
    "\n",
    "print(X_train_seq.shape, X_vali_seq.shape, X_test_seq.shape, y_train_seq.shape, y_vali_seq.shape, y_test_seq.shape)"
   ]
  },
  {
   "cell_type": "code",
   "execution_count": null,
   "id": "22d673a8",
   "metadata": {},
   "outputs": [],
   "source": [
    "optimizer = keras.optimizers.Adam(learning_rate=0.001)\n",
    "\n",
    "model_LSTM_Final = Sequential()\n",
    "model_LSTM_Final.add(LSTM(units=128, return_sequences=True, input_shape = (X_train_seq.shape[1], X_train_seq.shape[2])))\n",
    "model_LSTM_Final.add(LSTM(units=128, return_sequences=False, input_shape=(X_train.shape[1], X_train.shape[2]),))\n",
    "                        \n",
    "\n",
    "model_LSTM_Final.add(Dense(1, activation = \"linear\"))\n",
    "\n",
    "model_LSTM_Final.compile(loss='MSE', optimizer=optimizer)\n",
    "\n",
    "history_LSTM_Final = model_LSTM_Final.fit(X_train_seq, y_train_seq, batch_size = 16, epochs=50,\n",
    "                     validation_data = [X_vali_seq, y_vali_seq],callbacks=[early_stop], verbose=0)"
   ]
  },
  {
   "cell_type": "code",
   "execution_count": null,
   "id": "c882897f",
   "metadata": {},
   "outputs": [],
   "source": [
    "predictions = model_LSTM_Final.predict(X_test_seq)"
   ]
  },
  {
   "cell_type": "code",
   "execution_count": null,
   "id": "e5e38e28",
   "metadata": {},
   "outputs": [],
   "source": [
    "fig, ax = plt.subplots(figsize=(15,5), sharex = True)\n",
    "\n",
    "plt.style.use('seaborn')\n",
    "plt.plot(y_test.flatten(), color = 'black')\n",
    "plt.plot(predictions.flatten(), color ='blue')\n",
    "\n",
    "plt.xlim(0, 400)\n",
    "\n",
    "plt.title(\"Faktiske vs. prædikterede ændringer\")\n",
    "plt.ylabel(\"Procentuel ændring i lukkekurs fra dag til dag\")\n",
    "plt.xlabel(\"Tid\")\n",
    "plt.legend([\"Faktiske værdier\", \"Prædikterede værdier - Endelig model\"], loc= \"upper left\")"
   ]
  },
  {
   "cell_type": "markdown",
   "id": "5e74be8b",
   "metadata": {},
   "source": [
    "## Algorithmic trading RNN"
   ]
  },
  {
   "cell_type": "code",
   "execution_count": null,
   "id": "08812c26",
   "metadata": {},
   "outputs": [],
   "source": [
    "kurs= []\n",
    "for i in range(len(y_test)):\n",
    "    kurs.append(y_test[i])\n",
    "pred_close_RNN = pred_test_RNN"
   ]
  },
  {
   "cell_type": "code",
   "execution_count": null,
   "id": "c8eee61f",
   "metadata": {},
   "outputs": [],
   "source": [
    "m_udv, køb_pris, sælg_pris, x_køb, x_sælg = algo_performance_præd_værdier(pred_test_RNN, kurs, list(lukke_priser_test))\n",
    "visualiser(m_udv, list(lukke_priser_test), køb_pris, sælg_pris, pred_close_RNN, lukke_priser_test)"
   ]
  },
  {
   "cell_type": "markdown",
   "id": "6ed0f3da",
   "metadata": {},
   "source": [
    "## Algorithmic trading LSTM"
   ]
  },
  {
   "cell_type": "code",
   "execution_count": null,
   "id": "27eec9c0",
   "metadata": {},
   "outputs": [],
   "source": [
    "kurs= []\n",
    "priser_close = y_test\n",
    "pred_close_LSTM = predictions\n",
    "for i in range(len(priser_close)):\n",
    "    kurs.append(priser_close[i])"
   ]
  },
  {
   "cell_type": "code",
   "execution_count": null,
   "id": "850d16e3",
   "metadata": {},
   "outputs": [],
   "source": [
    "m_udv, køb_pris, sælg_pris, x_køb, x_sælg = algo_performance_præd_værdier(pred_close_LSTM, kurs, list(lukke_priser_test))\n",
    "visualiser(m_udv, list(lukke_priser_test), køb_pris, sælg_pris, pred_close_LSTM, list(lukke_priser_test))"
   ]
  }
 ],
 "metadata": {
  "kernelspec": {
   "display_name": "Python 3",
   "language": "python",
   "name": "python3"
  },
  "language_info": {
   "codemirror_mode": {
    "name": "ipython",
    "version": 3
   },
   "file_extension": ".py",
   "mimetype": "text/x-python",
   "name": "python",
   "nbconvert_exporter": "python",
   "pygments_lexer": "ipython3",
   "version": "3.8.8"
  }
 },
 "nbformat": 4,
 "nbformat_minor": 5
}
